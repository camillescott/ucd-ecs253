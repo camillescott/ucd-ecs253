{
 "cells": [
  {
   "cell_type": "markdown",
   "metadata": {},
   "source": [
    "This is the common problem set for Homework 3 from the spring quarter Network Theory class at UC Davis taught by Prof. Raissa D'Souza. The original assignment is at [http://mae.engr.ucdavis.edu/dsouza/Classes/253-S16/hw3.pdf](http://mae.engr.ucdavis.edu/dsouza/Classes/253-S16/hw3.pdf). Source code for this notebook is on github at [https://github.com/camillescott/ucd-ecs253](https://github.com/camillescott/ucd-ecs253). "
   ]
  },
  {
   "cell_type": "code",
   "execution_count": 1,
   "metadata": {
    "collapsed": false
   },
   "outputs": [
    {
     "name": "stdout",
     "output_type": "stream",
     "text": [
      "Populating the interactive namespace from numpy and matplotlib\n"
     ]
    }
   ],
   "source": [
    "%pylab inline\n",
    "import numpy as np\n",
    "import networkx as nx\n",
    "import seaborn as sns\n",
    "sns.set_style('ticks')\n",
    "sns.set_context('poster')"
   ]
  },
  {
   "cell_type": "code",
   "execution_count": 65,
   "metadata": {
    "collapsed": true
   },
   "outputs": [],
   "source": [
    "np.set_printoptions(precision=4, linewidth=100)"
   ]
  },
  {
   "cell_type": "markdown",
   "metadata": {
    "collapsed": true
   },
   "source": [
    "# Modularity Matrix"
   ]
  },
  {
   "cell_type": "markdown",
   "metadata": {},
   "source": [
    "## Bisection of a binary undirected network"
   ]
  },
  {
   "cell_type": "code",
   "execution_count": 58,
   "metadata": {
    "collapsed": false
   },
   "outputs": [
    {
     "name": "stdout",
     "output_type": "stream",
     "text": [
      "[[0 1 1 1 0 0]\n",
      " [1 0 1 0 1 0]\n",
      " [1 1 0 0 0 1]\n",
      " [1 0 0 0 1 1]\n",
      " [0 1 0 1 0 1]\n",
      " [0 0 1 1 1 0]]\n"
     ]
    }
   ],
   "source": [
    "A = np.array( [[0, 1, 1, 1, 0, 0],\n",
    "               [1, 0, 1, 0, 1, 0],\n",
    "               [1, 1, 0, 0, 0, 1],\n",
    "               [1, 0, 0, 0, 1, 1],\n",
    "               [0, 1, 0, 1, 0, 1],\n",
    "               [0, 0, 1, 1, 1, 0]] )\n",
    "print(A)"
   ]
  },
  {
   "cell_type": "code",
   "execution_count": 59,
   "metadata": {
    "collapsed": false
   },
   "outputs": [],
   "source": [
    "k = A.sum(axis=0)\n",
    "B = A - np.outer(k, k.T) / A.sum()"
   ]
  },
  {
   "cell_type": "code",
   "execution_count": 60,
   "metadata": {
    "collapsed": false
   },
   "outputs": [
    {
     "name": "stdout",
     "output_type": "stream",
     "text": [
      "[[-0.5  0.5  0.5  0.5 -0.5 -0.5]\n",
      " [ 0.5 -0.5  0.5 -0.5  0.5 -0.5]\n",
      " [ 0.5  0.5 -0.5 -0.5 -0.5  0.5]\n",
      " [ 0.5 -0.5 -0.5 -0.5  0.5  0.5]\n",
      " [-0.5  0.5 -0.5  0.5 -0.5  0.5]\n",
      " [-0.5 -0.5  0.5  0.5  0.5 -0.5]]\n"
     ]
    }
   ],
   "source": [
    "print(B)"
   ]
  },
  {
   "cell_type": "code",
   "execution_count": null,
   "metadata": {
    "collapsed": true
   },
   "outputs": [],
   "source": [
    "print(np.array_str())"
   ]
  },
  {
   "cell_type": "code",
   "execution_count": 69,
   "metadata": {
    "collapsed": true
   },
   "outputs": [],
   "source": [
    "def eigenvalue_communities(B):\n",
    "    w, v = np.linalg.eig(B)\n",
    "    print('Eigenvalues:', w)\n",
    "    \n",
    "    v_arrow = v[:,np.argmax(w)]\n",
    "    print('Eigenvector for largest eigenvalue:', v_arrow)\n",
    "    \n",
    "    communities = np.where(v_arrow > 0, [1]*len(v_arrow), [2]*len(v_arrow))\n",
    "    print('\\nCommunities:')\n",
    "    for i, community in enumerate(communities):\n",
    "        print('Node {0}:'.format(i+1), 'Community', community)"
   ]
  },
  {
   "cell_type": "code",
   "execution_count": 70,
   "metadata": {
    "collapsed": false
   },
   "outputs": [
    {
     "name": "stdout",
     "output_type": "stream",
     "text": [
      "Eigenvalues: [ -2.0000e+00   1.9733e-16   1.0000e+00  -2.0000e+00  -2.6080e-16  -3.2816e-17]\n",
      "Eigenvector for largest eigenvalue: [-0.4082 -0.4082 -0.4082  0.4082  0.4082  0.4082]\n",
      "\n",
      "Communities:\n",
      "Node 1: Community 2\n",
      "Node 2: Community 2\n",
      "Node 3: Community 2\n",
      "Node 4: Community 1\n",
      "Node 5: Community 1\n",
      "Node 6: Community 1\n"
     ]
    }
   ],
   "source": [
    "eigenvalue_communities(B)"
   ]
  },
  {
   "cell_type": "markdown",
   "metadata": {},
   "source": [
    "## Bisection of a weighted undirected network"
   ]
  },
  {
   "cell_type": "code",
   "execution_count": 71,
   "metadata": {
    "collapsed": false
   },
   "outputs": [
    {
     "name": "stdout",
     "output_type": "stream",
     "text": [
      "[[ 0.   1.   0.   0.5]\n",
      " [ 1.   0.   0.5  0. ]\n",
      " [ 0.   0.5  0.   1. ]\n",
      " [ 0.5  0.   1.   0. ]]\n"
     ]
    }
   ],
   "source": [
    "A = np.array( [[0, 1, 0, .5],\n",
    "               [1, 0, .5, 0],\n",
    "               [0, .5, 0, 1],\n",
    "               [.5, 0, 1, 0]])\n",
    "print(A)"
   ]
  },
  {
   "cell_type": "code",
   "execution_count": 72,
   "metadata": {
    "collapsed": false
   },
   "outputs": [
    {
     "name": "stdout",
     "output_type": "stream",
     "text": [
      "3.0\n"
     ]
    }
   ],
   "source": [
    "m = A.sum() / 2\n",
    "print(m)"
   ]
  },
  {
   "cell_type": "code",
   "execution_count": 73,
   "metadata": {
    "collapsed": true
   },
   "outputs": [],
   "source": [
    "k = A.sum(axis=0)\n",
    "B = A - (np.outer(k, k.T) / (2*m))"
   ]
  },
  {
   "cell_type": "code",
   "execution_count": 74,
   "metadata": {
    "collapsed": false
   },
   "outputs": [
    {
     "name": "stdout",
     "output_type": "stream",
     "text": [
      "Eigenvalues: [ -1.5000e+00  -5.0000e-01   5.0000e-01  -9.0433e-17]\n",
      "Eigenvector for largest eigenvalue: [ 0.5  0.5 -0.5 -0.5]\n",
      "\n",
      "Communities:\n",
      "Node 1: Community 1\n",
      "Node 2: Community 1\n",
      "Node 3: Community 2\n",
      "Node 4: Community 2\n"
     ]
    }
   ],
   "source": [
    "eigenvalue_communities(B)"
   ]
  },
  {
   "cell_type": "code",
   "execution_count": null,
   "metadata": {
    "collapsed": true
   },
   "outputs": [],
   "source": []
  }
 ],
 "metadata": {
  "kernelspec": {
   "display_name": "Python 3",
   "language": "python",
   "name": "python3"
  },
  "language_info": {
   "codemirror_mode": {
    "name": "ipython",
    "version": 3
   },
   "file_extension": ".py",
   "mimetype": "text/x-python",
   "name": "python",
   "nbconvert_exporter": "python",
   "pygments_lexer": "ipython3",
   "version": "3.5.1"
  }
 },
 "nbformat": 4,
 "nbformat_minor": 0
}
